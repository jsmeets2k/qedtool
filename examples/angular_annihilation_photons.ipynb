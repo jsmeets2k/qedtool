{
 "cells": [
  {
   "cell_type": "markdown",
   "id": "7afe7fed",
   "metadata": {},
   "source": [
    "# Electron-positron annihilation into photons"
   ]
  },
  {
   "cell_type": "markdown",
   "id": "ad420196",
   "metadata": {},
   "source": [
    "In this notebook, we will consider the process $e^+e^- \\to 2\\gamma$. We prepare an electron-positron pair in some initial quantum state, and we study the quantum state of the emitted photon pair. Initially, we consider the scattering from the CM frame, after which we will perform a boost in the $z$-direction. We start by importing `qedtool` and `numpy`, and some libraries required for making plots:"
   ]
  },
  {
   "cell_type": "code",
   "execution_count": null,
   "id": "ee7f1a3f",
   "metadata": {},
   "outputs": [],
   "source": [
    "import numpy as np\n",
    "import qedtool as qtl\n",
    "import matplotlib.pyplot as plt"
   ]
  },
  {
   "cell_type": "markdown",
   "id": "7b6d7710",
   "metadata": {},
   "source": [
    "We will define the electron mass in MeV and the elementary charge:"
   ]
  },
  {
   "cell_type": "code",
   "execution_count": null,
   "id": "82742d6a",
   "metadata": {},
   "outputs": [],
   "source": [
    "m = qtl.constant(\"electron mass\")\n",
    "e = qtl.constant(\"elementary charge\")"
   ]
  },
  {
   "cell_type": "markdown",
   "id": "e7e5b966",
   "metadata": {},
   "source": [
    "In the CM frame, the electron and positron have the same 3-momentum norm $|\\mathbf{p}|$, which we will set to 0.2 MeV. We will calculate the emitted two-photon state for all angles $\\theta$ and $\\phi$. Therefore we need to define:"
   ]
  },
  {
   "cell_type": "code",
   "execution_count": null,
   "id": "bfcd9607",
   "metadata": {},
   "outputs": [],
   "source": [
    "p = 0.2\n",
    "energy = np.sqrt(p**2 + m**2)\n",
    "phi = np.linspace(0, 2*np.pi, 50)\n",
    "theta = np.linspace(0, np.pi, 50)"
   ]
  },
  {
   "cell_type": "markdown",
   "id": "45b24666",
   "metadata": {},
   "source": [
    "The electron and positron have their momenta in opposite directions, and we will choose the collision axis to be the $z$-axis:"
   ]
  },
  {
   "cell_type": "code",
   "execution_count": null,
   "id": "b5641ed0",
   "metadata": {},
   "outputs": [],
   "source": [
    "pmu_e = qtl.FourVector(energy, p, 0, 0)\n",
    "pmu_p = -pmu_e"
   ]
  },
  {
   "cell_type": "markdown",
   "id": "35413395",
   "metadata": {},
   "source": [
    "The initial quantum state will be a mixed state with density matrix $\\rho = w_1|\\psi_1\\rangle\\langle\\psi_1| + w_2|\\psi_2\\rangle\\langle\\psi_2|$ where\n",
    "\n",
    "$$|\\psi_1\\rangle = \\frac{1}{\\sqrt{2}}\\Big( |p_+,\\mathrm{L};p_-,\\mathrm{R}\\rangle + |p_+,\\mathrm{H};p_-,\\mathrm{V}\\rangle \\Big)\\,, \\qquad\\quad |\\psi_2\\rangle = \\vphantom{\\frac{1}{1}}|p_+,\\mathrm{R};p_-,\\mathrm{R}\\rangle\\,,$$\n",
    "\n",
    "with $w_1 = \\frac{2}{5}$ and $w_2 = \\frac{3}{5}$. Here, $p_\\pm = (\\varepsilon_\\mathbf{p}, \\pm|\\mathbf{p}|\\hat{\\mathbf{z}})$ is the electron(positron) 4-momentum; the ''$\\pm$'' stands for the direction of the 3-momentum, not the charge of the Dirac fermions! To construct the mixed state, we therefore need to define the following single-particle states:"
   ]
  },
  {
   "cell_type": "code",
   "execution_count": null,
   "id": "584e3e27",
   "metadata": {},
   "outputs": [],
   "source": [
    "plus_l = qtl.QuantumState.single(pmu_e, \"L\")\n",
    "plus_r = qtl.QuantumState.single(pmu_e, \"R\")\n",
    "plus_h = qtl.QuantumState.single(pmu_e, \"H\")\n",
    "minus_r = qtl.QuantumState.single(pmu_p, \"R\")\n",
    "minus_v = qtl.QuantumState.single(pmu_p, \"V\")\n",
    "minus_l = qtl.QuantumState.single(pmu_p, \"L\")"
   ]
  },
  {
   "cell_type": "markdown",
   "id": "1b00618f",
   "metadata": {},
   "source": [
    "From these, we can constuct the mixed initial electron-positron state:"
   ]
  },
  {
   "cell_type": "code",
   "execution_count": null,
   "id": "1092997b",
   "metadata": {},
   "outputs": [],
   "source": [
    "# Pure state components\n",
    "state_1 = (plus_l * minus_r + plus_h * minus_v) / np.sqrt(2)\n",
    "state_2 = plus_r * minus_r\n",
    "states = [state_1, state_2]\n",
    "\n",
    "# Classical probabilities\n",
    "w = [0.4, 0.6]\n",
    "\n",
    "# Creating the mixed initial state\n",
    "in_state = qtl.QuantumState.mixed(w, states)"
   ]
  },
  {
   "cell_type": "markdown",
   "id": "84fceee1",
   "metadata": {},
   "source": [
    "Both initial Dirac fermions have a speed $|\\boldsymbol{\\beta}_{\\text{CM}}|$ equal to"
   ]
  },
  {
   "cell_type": "code",
   "execution_count": null,
   "id": "152eb507",
   "metadata": {
    "scrolled": true
   },
   "outputs": [],
   "source": [
    "beta_cm = qtl.ThreeVector.beta(pmu_e)\n",
    "print(\"v =\", np.sqrt(beta_cm * beta_cm))"
   ]
  },
  {
   "cell_type": "markdown",
   "id": "05771692",
   "metadata": {},
   "source": [
    "To calculate the polarized Feynman amplitudes, we generate a 2-dimensional array with all handedness combinations:"
   ]
  },
  {
   "cell_type": "code",
   "execution_count": null,
   "id": "aea73401",
   "metadata": {},
   "outputs": [],
   "source": [
    "hand_ll = qtl.handedness_config(4, [2, 3], [-1, -1])\n",
    "hand_lr = qtl.handedness_config(4, [2, 3], [-1, 1])\n",
    "hand_rl = qtl.handedness_config(4, [2, 3], [1, -1])\n",
    "hand_rr = qtl.handedness_config(4, [2, 3], [1, 1])\n",
    "\n",
    "h = [hand_ll, hand_lr, hand_rl, hand_rr]"
   ]
  },
  {
   "cell_type": "markdown",
   "id": "c89665aa",
   "metadata": {},
   "source": [
    "For example, in `hand_ll` we fixed the emitted photon helicities to be both $-1$. We will calculate twelve quantities: the differential cross section $\\partial_\\Pi\\sigma$, the two-photon concurrence $C$, the two-photon degree of polarization $P_{(2)}$, and nine Stokes parameters. For this we generate twelve empty lists:"
   ]
  },
  {
   "cell_type": "code",
   "execution_count": null,
   "id": "be06a7e8",
   "metadata": {},
   "outputs": [],
   "source": [
    "data = qtl.empty_lists(12)"
   ]
  },
  {
   "cell_type": "markdown",
   "id": "30c43e42",
   "metadata": {},
   "source": [
    "Here we will perform the main calculation:"
   ]
  },
  {
   "cell_type": "code",
   "execution_count": null,
   "id": "f3cdd9ba",
   "metadata": {},
   "outputs": [],
   "source": [
    "for ph in range(len(phi)):\n",
    "    \n",
    "    data_ph = qtl.empty_lists(12)\n",
    "    \n",
    "    for i in range(len(theta)):\n",
    "\n",
    "        amplitudes = []\n",
    "\n",
    "        for j in range(len(h)):\n",
    "\n",
    "            amplitudes_row = []\n",
    "\n",
    "            for k in range(len(h[j])):\n",
    "\n",
    "                # Photon pair 4-momenta\n",
    "                kmu_1 = qtl.FourVector(energy, energy, theta[i], phi[ph])\n",
    "                kmu_2 = -kmu_1\n",
    "\n",
    "                # Virtual 4-momenta\n",
    "                qmu_1 = pmu_e - kmu_1\n",
    "                qmu_2 = pmu_e - kmu_2\n",
    "\n",
    "                # External particles for polarized Feynman amplitudes\n",
    "                electron = qtl.RealParticle.electron(h[j][k][0], pmu_e, \"in\")\n",
    "                positron = qtl.RealParticle.positron(h[j][k][1], pmu_p, \"in\")\n",
    "                photon_1 = qtl.RealParticle.photon(h[j][k][2], kmu_1, \"out\")\n",
    "                photon_2 = qtl.RealParticle.photon(h[j][k][3], kmu_2, \"out\")\n",
    "                \n",
    "                # Virtual particles\n",
    "                fermion_1 = qtl.VirtualParticle.electron(qmu_1)\n",
    "                fermion_2 = qtl.VirtualParticle.electron(qmu_2)\n",
    "                \n",
    "                # Retrieve fermion polarizations\n",
    "                u = electron.polarization.bispinor\n",
    "                v = positron.polarization.bispinor\n",
    "                \n",
    "                # Photon polarization matrices\n",
    "                e1 = -1j * e * qtl.slashed(photon_1.polarization)\n",
    "                e2 = -1j * e * qtl.slashed(photon_2.polarization)\n",
    "                \n",
    "                # Retrieve propagators\n",
    "                g1 = fermion_1.propagator\n",
    "                g2 = fermion_2.propagator\n",
    "                \n",
    "                # Calculate the total amplitude\n",
    "                amplitude = v.dot(e2).dot(g1).dot(e1).dot(u) \\\n",
    "                            + v.dot(e1).dot(g2).dot(e2).dot(u)\n",
    "                \n",
    "                amplitudes_row.append(amplitude)\n",
    "            \n",
    "            amplitudes.append(amplitudes_row)\n",
    "            \n",
    "        # Construct the emitted state from the initial state\n",
    "        out = qtl.QuantumState.out_state(in_state, amplitudes)\n",
    "        \n",
    "        # Compute the 12 quantities\n",
    "        dcs = qtl.diff_cross_section(pmu_e, pmu_p, out)\n",
    "        conc = qtl.concurrence(out)\n",
    "        pol = qtl.degree_polarization(out)\n",
    "        s11 = qtl.stokes_parameter(out, [1, 1])\n",
    "        s12 = qtl.stokes_parameter(out, [1, 2])\n",
    "        s13 = qtl.stokes_parameter(out, [1, 3])\n",
    "        s21 = qtl.stokes_parameter(out, [2, 1])\n",
    "        s22 = qtl.stokes_parameter(out, [2, 2])\n",
    "        s23 = qtl.stokes_parameter(out, [2, 3])\n",
    "        s31 = qtl.stokes_parameter(out, [3, 1])\n",
    "        s32 = qtl.stokes_parameter(out, [3, 2])\n",
    "        s33 = qtl.stokes_parameter(out, [3, 3])\n",
    "            \n",
    "        quantities = [dcs, conc, pol, \n",
    "                      s11, s12, s13,\n",
    "                      s21, s22, s23,\n",
    "                      s31, s32, s33]\n",
    "        \n",
    "        for l in range(len(data_ph)):\n",
    "            data_ph[l].append(quantities[l])\n",
    "                \n",
    "    for n in range(len(data)):\n",
    "        data[n].append(data_ph[n])\n"
   ]
  },
  {
   "cell_type": "markdown",
   "id": "4e41875e",
   "metadata": {},
   "source": [
    "Now we can plot the results:"
   ]
  },
  {
   "cell_type": "code",
   "execution_count": null,
   "id": "dc72f8ec",
   "metadata": {},
   "outputs": [],
   "source": [
    "# Figure\n",
    "cm = 1 / 2.54\n",
    "fig, ax = plt.subplots(2, 3, subplot_kw={'projection': 'polar'}, constrained_layout=True)\n",
    "fig.set_size_inches(15*cm, 7*cm)\n",
    "\n",
    "# Plot data\n",
    "im00 = ax[0,0].pcolormesh(phi, theta, np.transpose(data[0]), shading='auto', cmap='turbo', vmin = 0.055, vmax = 0.062)\n",
    "im01 = ax[0,1].pcolormesh(phi, theta, np.transpose(data[1]), shading='auto', cmap='copper', vmin = 0.58, vmax = 0.75)\n",
    "im02 = ax[0,2].pcolormesh(phi, theta, np.transpose(data[2]), shading='auto', cmap='YlGnBu_r', vmin = 0.6025, vmax = 0.7)\n",
    "im10 = ax[1,0].pcolormesh(phi, theta, np.transpose(data[3]), shading='auto', cmap='berlin')\n",
    "im11 = ax[1,1].pcolormesh(phi, theta, np.transpose(data[4]), shading='auto', cmap='berlin')\n",
    "im12 = ax[1,2].pcolormesh(phi, theta, np.transpose(data[9]), shading='auto', cmap='berlin')\n",
    "\n",
    "# Show colorbar\n",
    "plt.colorbar(im00, ax=ax[0,0], pad=0.1, aspect=8, fraction=0.12)\n",
    "plt.colorbar(im01, ax=ax[0,1], pad=0.1, aspect=8, fraction=0.12)\n",
    "plt.colorbar(im02, ax=ax[0,2], pad=0.1, aspect=8, fraction=0.12)\n",
    "plt.colorbar(im10, ax=ax[1,0], pad=0.1, aspect=8, fraction=0.12)\n",
    "plt.colorbar(im11, ax=ax[1,1], pad=0.1, aspect=8, fraction=0.12)\n",
    "plt.colorbar(im12, ax=ax[1,2], pad=0.1, aspect=8, fraction=0.12)\n",
    "\n",
    "# Make the radial axis invisible\n",
    "for i in range(2):\n",
    "    for j in range(3):\n",
    "        ax[i,j].yaxis.set_visible(False)\n",
    "\n",
    "# Titles\n",
    "ax[0,0].set_title('$\\partial_{\\Pi}\\\\sigma$', fontsize=11);\n",
    "ax[0,1].set_title('$C$', fontsize=11);\n",
    "ax[0,2].set_title('$P_{(2)}$', fontsize=11);\n",
    "\n",
    "ax[1,0].set_title('$S_{11}$', fontsize=11);\n",
    "ax[1,1].set_title('$S_{12}$', fontsize=11);\n",
    "ax[1,2].set_title('$S_{31}$', fontsize=11);\n",
    "\n",
    "# White edge colors\n",
    "for j in range(3):\n",
    "    for spine in ax[0,j].spines.values():\n",
    "        spine.set_edgecolor('white')\n",
    "    for spine in ax[1,j].spines.values():\n",
    "        spine.set_edgecolor('white')\n",
    "        \n",
    "# Azimuthal ticks and labels\n",
    "xticks = [0, np.pi/4, np.pi/2, 3*np.pi/4, np.pi, np.pi + np.pi/4, np.pi + np.pi/2, np.pi + 3*np.pi/4, 2*np.pi]\n",
    "xlabels = ['$0$', '', '', '', '$\\pi$', '', '', '', '']\n",
    "for i in range(2):\n",
    "    for j in range(3):\n",
    "        ax[i,j].xaxis.set_ticks(xticks)\n",
    "        ax[i,j].set_xticklabels(xlabels) \n",
    "        ax[i,j].tick_params(axis='both', which='both', direction='in', right=True, top=True, color='white', pad=0.05)\n",
    "        ax[i,j].grid(color='white', linestyle=':', linewidth=0.5)"
   ]
  },
  {
   "cell_type": "markdown",
   "id": "a8b4bd36",
   "metadata": {},
   "source": [
    "We can now observe the effect of a boost on the correlations above. We saw that the initial fermions move at $|\\boldsymbol{\\beta}_{\\text{CM}}| \\approx 0.36$. Therefore, a boost with $\\boldsymbol{\\beta} = (0, 0, 0.6)$ will induce a spin flip in the initial positron. First we define the boost 3-vector:"
   ]
  },
  {
   "cell_type": "code",
   "execution_count": null,
   "id": "828671b5",
   "metadata": {},
   "outputs": [],
   "source": [
    "beta = qtl.ThreeVector(0.6, 0, 0)"
   ]
  },
  {
   "cell_type": "markdown",
   "id": "2629dc19",
   "metadata": {},
   "source": [
    "With the following `for`-loop, we can extract the boosted polar angles $\\theta_{\\boldsymbol{\\beta}}$ of a photon with 4-momentum $k = \\varepsilon_\\mathbf{p}(1,\\sin\\theta,0,\\cos\\theta)$ as a function of $\\theta$."
   ]
  },
  {
   "cell_type": "code",
   "execution_count": null,
   "id": "0e3d0587",
   "metadata": {},
   "outputs": [],
   "source": [
    "theta_b = []\n",
    "for j in range(len(theta)):\n",
    "    kmu = qtl.FourVector(energy, energy, theta[j], 0)\n",
    "    kmu_b = qtl.boost(kmu, beta)\n",
    "    theta_b.append(kmu_b.sphericals[2])"
   ]
  },
  {
   "cell_type": "markdown",
   "id": "0cbef51a",
   "metadata": {},
   "source": [
    "When plotted as a function:"
   ]
  },
  {
   "cell_type": "code",
   "execution_count": null,
   "id": "e047ee35",
   "metadata": {},
   "outputs": [],
   "source": [
    "plt.plot(theta, theta_b);\n",
    "plt.xlim(0, np.pi);\n",
    "plt.title(\"$\\\\theta_{\\\\boldsymbol{\\\\beta}}(\\\\theta)$\");"
   ]
  },
  {
   "cell_type": "markdown",
   "id": "02b866e4",
   "metadata": {},
   "source": [
    "Naturally, the relation plotted above is not linear. By decreasing the boost factor, i.e. $|\\boldsymbol{\\beta}|\\ll 1$, the function converges to $\\theta_{\\boldsymbol{\\beta}}(\\theta) \\sim \\theta$ as expected. To boost to a different frame, we boost the previously defined single-particle states:"
   ]
  },
  {
   "cell_type": "code",
   "execution_count": null,
   "id": "1b1e537a",
   "metadata": {},
   "outputs": [],
   "source": [
    "plus_l_b = qtl.boost(plus_l, beta)\n",
    "plus_r_b = qtl.boost(plus_r, beta)\n",
    "plus_h_b = qtl.boost(plus_h, beta)\n",
    "minus_r_b = qtl.boost(minus_r, beta)\n",
    "minus_v_b = qtl.boost(minus_v, beta)"
   ]
  },
  {
   "cell_type": "markdown",
   "id": "7671aa88",
   "metadata": {},
   "source": [
    "Then we construct the mixed state like before, except we use the boosted single-particle states:"
   ]
  },
  {
   "cell_type": "code",
   "execution_count": null,
   "id": "ec0e554e",
   "metadata": {},
   "outputs": [],
   "source": [
    "# Boosted pure state components\n",
    "state_1_b = (plus_l_b * minus_r_b + plus_h_b * minus_v_b) / np.sqrt(2)\n",
    "state_2_b = plus_r_b * minus_r_b\n",
    "states_b = [state_1_b, state_2_b]\n",
    "\n",
    "# Classical probabilities\n",
    "w = [0.4, 0.6]\n",
    "\n",
    "# Creating the boosted mixed initial state\n",
    "in_state_b = qtl.QuantumState.mixed(w, states_b)"
   ]
  },
  {
   "cell_type": "markdown",
   "id": "2bb503ef",
   "metadata": {},
   "source": [
    "As expected, we observe a difference in the original and boosted density matrices:"
   ]
  },
  {
   "cell_type": "code",
   "execution_count": null,
   "id": "ef1980b7",
   "metadata": {},
   "outputs": [],
   "source": [
    "print(\"unboosted:\")\n",
    "print(np.round(in_state.rho,4))\n",
    "print()\n",
    "print(\"boosted:\")\n",
    "print(np.round(in_state_b.rho,4))"
   ]
  },
  {
   "cell_type": "markdown",
   "id": "9256f45e",
   "metadata": {},
   "source": [
    "We proceed to construct the emitted state and correlations as in our previous calculation, except we assign the boosted initial quantum state as `in_state`. Users can verify that boosting all particles in the inner-most loop leaves the result unchanged."
   ]
  },
  {
   "cell_type": "code",
   "execution_count": null,
   "id": "9637d475",
   "metadata": {},
   "outputs": [],
   "source": [
    "# Boosted data lists\n",
    "data_b = qtl.empty_lists(12)\n",
    "\n",
    "# Boosted initial 4-momenta (needed for differential cross section)\n",
    "pmu_e_b = qtl.boost(pmu_e, beta)\n",
    "pmu_p_b = qtl.boost(pmu_p, beta)\n",
    "\n",
    "for a in range(len(phi)):\n",
    "    \n",
    "    data_a = qtl.empty_lists(12)\n",
    "    \n",
    "    for i in range(len(theta)):\n",
    "\n",
    "        amplitudes = []\n",
    "\n",
    "        for j in range(len(h)):\n",
    "\n",
    "            amplitudes_row = []\n",
    "\n",
    "            for k in range(len(h[j])):\n",
    "\n",
    "                # Photon pair 4-momenta\n",
    "                kmu_1 = qtl.FourVector(energy, energy, theta[i], phi[a])\n",
    "                kmu_2 = -kmu_1\n",
    "\n",
    "                # Internal 4-momenta\n",
    "                qmu_1 = pmu_e - kmu_1\n",
    "                qmu_2 = pmu_e - kmu_2\n",
    "\n",
    "                # External particles for polarized Feynman amplitudes\n",
    "                electron = qtl.RealParticle.electron(h[j][k][0], pmu_e, \"in\")\n",
    "                positron = qtl.RealParticle.positron(h[j][k][1], pmu_p, \"in\")\n",
    "                photon_1 = qtl.RealParticle.photon(h[j][k][2], kmu_1, \"out\")\n",
    "                photon_2 = qtl.RealParticle.photon(h[j][k][3], kmu_2, \"out\")\n",
    "                \n",
    "                # Internal particles\n",
    "                fermion_1 = qtl.VirtualParticle.electron(qmu_1)\n",
    "                fermion_2 = qtl.VirtualParticle.electron(qmu_2)\n",
    "                \n",
    "                # Retrieve fermion polarizations\n",
    "                u = electron.polarization.bispinor\n",
    "                v = positron.polarization.bispinor\n",
    "                \n",
    "                # Photon polarization matrices\n",
    "                e1 = -1j * e * qtl.slashed(photon_1.polarization)\n",
    "                e2 = -1j * e * qtl.slashed(photon_2.polarization)\n",
    "                \n",
    "                # Propagators\n",
    "                g1 = fermion_1.propagator\n",
    "                g2 = fermion_2.propagator\n",
    "                \n",
    "                # Calculate the total amplitude\n",
    "                amplitude = v.dot(e2).dot(g1).dot(e1).dot(u) \\\n",
    "                            + v.dot(e1).dot(g2).dot(e2).dot(u)\n",
    "                \n",
    "                amplitudes_row.append(amplitude)\n",
    "            \n",
    "            amplitudes.append(amplitudes_row)\n",
    "            \n",
    "        out = qtl.QuantumState.out_state(in_state_b, amplitudes)\n",
    "        \n",
    "        dcs = qtl.diff_cross_section(pmu_e_b, pmu_p_b, out)\n",
    "        conc = qtl.concurrence(out)\n",
    "        pol = qtl.degree_polarization(out)\n",
    "        s11 = qtl.stokes_parameter(out, [1, 1])\n",
    "        s12 = qtl.stokes_parameter(out, [1, 2])\n",
    "        s13 = qtl.stokes_parameter(out, [1, 3])\n",
    "        s21 = qtl.stokes_parameter(out, [2, 1])\n",
    "        s22 = qtl.stokes_parameter(out, [2, 2])\n",
    "        s23 = qtl.stokes_parameter(out, [2, 3])\n",
    "        s31 = qtl.stokes_parameter(out, [3, 1])\n",
    "        s32 = qtl.stokes_parameter(out, [3, 2])\n",
    "        s33 = qtl.stokes_parameter(out, [3, 3])\n",
    "            \n",
    "        quantities = [dcs, conc, pol, \n",
    "                      s11, s12, s13,\n",
    "                      s21, s22, s23,\n",
    "                      s31, s32, s33]\n",
    "        \n",
    "        for l in range(len(data_a)):\n",
    "            data_a[l].append(quantities[l])\n",
    "                \n",
    "    for n in range(len(data_b)):\n",
    "        data_b[n].append(data_a[n])\n"
   ]
  },
  {
   "cell_type": "markdown",
   "id": "f006f9bd",
   "metadata": {},
   "source": [
    "Again, we plot the results:"
   ]
  },
  {
   "cell_type": "code",
   "execution_count": null,
   "id": "ae3c9b40",
   "metadata": {},
   "outputs": [],
   "source": [
    "# Figure\n",
    "cm = 1 / 2.54\n",
    "fig, ax = plt.subplots(2, 3, subplot_kw={'projection': 'polar'}, constrained_layout=True)\n",
    "fig.set_size_inches(15*cm, 7*cm)\n",
    "\n",
    "# Plot data\n",
    "im00 = ax[0,0].pcolormesh(phi, theta_b, np.transpose(data_b[0]), shading='auto', cmap='turbo', vmin=0.0365, vmax=0.0393)\n",
    "im01 = ax[0,1].pcolormesh(phi, theta_b, np.transpose(data_b[1]), shading='auto', cmap='copper', vmin=0.4, vmax=1)\n",
    "im02 = ax[0,2].pcolormesh(phi, theta_b, np.transpose(data_b[2]), shading='auto', cmap='YlGnBu_r', vmin=0.75, vmax=0.93)\n",
    "im10 = ax[1,0].pcolormesh(phi, theta_b, np.transpose(data_b[3]), shading='auto', cmap='berlin')\n",
    "im11 = ax[1,1].pcolormesh(phi, theta_b, np.transpose(data_b[4]), shading='auto', cmap='berlin', vmin=0.22, vmax=0.35)\n",
    "im12 = ax[1,2].pcolormesh(phi, theta_b, np.transpose(data_b[9]), shading='auto', cmap='berlin', vmin=-0.2, vmax=0.45)\n",
    "\n",
    "# Show colorbar\n",
    "plt.colorbar(im00, ax=ax[0,0], pad=0.1, aspect=8, fraction=0.12)\n",
    "plt.colorbar(im01, ax=ax[0,1], pad=0.1, aspect=8, fraction=0.12)\n",
    "plt.colorbar(im02, ax=ax[0,2], pad=0.1, aspect=8, fraction=0.12)\n",
    "plt.colorbar(im10, ax=ax[1,0], pad=0.1, aspect=8, fraction=0.12)\n",
    "plt.colorbar(im11, ax=ax[1,1], pad=0.1, aspect=8, fraction=0.12)\n",
    "plt.colorbar(im12, ax=ax[1,2], pad=0.1, aspect=8, fraction=0.12)\n",
    "\n",
    "# Make the radial axis invisible\n",
    "for i in range(2):\n",
    "    for j in range(3):\n",
    "        ax[i,j].yaxis.set_visible(False)\n",
    "\n",
    "# Titles\n",
    "ax[0,0].set_title('$\\partial_{\\Pi}\\\\sigma$', fontsize=11);\n",
    "ax[0,1].set_title('$C$', fontsize=11);\n",
    "ax[0,2].set_title('$P_{(2)}$', fontsize=11);\n",
    "\n",
    "ax[1,0].set_title('$S_{11}$', fontsize=11);\n",
    "ax[1,1].set_title('$S_{12}$', fontsize=11);\n",
    "ax[1,2].set_title('$S_{31}$', fontsize=11);\n",
    "\n",
    "# White edge colors\n",
    "for j in range(3):\n",
    "    for spine in ax[0,j].spines.values():\n",
    "        spine.set_edgecolor('white')\n",
    "    for spine in ax[1,j].spines.values():\n",
    "        spine.set_edgecolor('white')\n",
    "        \n",
    "# Azimuthal ticks and labels\n",
    "xticks = [0, np.pi/4, np.pi/2, 3*np.pi/4, np.pi, np.pi + np.pi/4, np.pi + np.pi/2, np.pi + 3*np.pi/4, 2*np.pi]\n",
    "xlabels = ['$0$', '', '', '', '$\\pi$', '', '', '', '']\n",
    "for i in range(2):\n",
    "    for j in range(3):\n",
    "        ax[i,j].xaxis.set_ticks(xticks)\n",
    "        ax[i,j].set_xticklabels(xlabels) \n",
    "        ax[i,j].tick_params(axis='both', which='both', direction='in', right=True, top=True, color='white', pad=0.05)\n",
    "        ax[i,j].grid(color='white', linestyle=':', linewidth=0.5)"
   ]
  }
 ],
 "metadata": {
  "kernelspec": {
   "display_name": "Python 3 (ipykernel)",
   "language": "python",
   "name": "python3"
  },
  "language_info": {
   "codemirror_mode": {
    "name": "ipython",
    "version": 3
   },
   "file_extension": ".py",
   "mimetype": "text/x-python",
   "name": "python",
   "nbconvert_exporter": "python",
   "pygments_lexer": "ipython3",
   "version": "3.11.5"
  }
 },
 "nbformat": 4,
 "nbformat_minor": 5
}
